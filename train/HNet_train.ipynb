{
  "nbformat": 4,
  "nbformat_minor": 0,
  "metadata": {
    "colab": {
      "name": "HNet_train.ipynb",
      "provenance": [],
      "authorship_tag": "ABX9TyPVD+vS0ecR2nwhfub/ht+S",
      "include_colab_link": true
    },
    "kernelspec": {
      "name": "python3",
      "display_name": "Python 3"
    },
    "language_info": {
      "name": "python"
    },
    "accelerator": "GPU"
  },
  "cells": [
    {
      "cell_type": "markdown",
      "metadata": {
        "id": "view-in-github",
        "colab_type": "text"
      },
      "source": [
        "<a href=\"https://colab.research.google.com/github/taravatp/roadLane_InstanceSegmentation/blob/main/train/HNet_train.ipynb\" target=\"_parent\"><img src=\"https://colab.research.google.com/assets/colab-badge.svg\" alt=\"Open In Colab\"/></a>"
      ]
    },
    {
      "cell_type": "markdown",
      "metadata": {
        "id": "myFm2gzfTAXo"
      },
      "source": [
        "# Install required packages and import them"
      ]
    },
    {
      "cell_type": "code",
      "metadata": {
        "id": "fDW2UzdKSmsc",
        "colab": {
          "base_uri": "https://localhost:8080/"
        },
        "outputId": "afb9a75a-015c-41ad-b923-1d8afa824f57"
      },
      "source": [
        "from google.colab import drive\n",
        "drive.mount('/content/drive')"
      ],
      "execution_count": null,
      "outputs": [
        {
          "output_type": "stream",
          "text": [
            "Mounted at /content/drive\n"
          ],
          "name": "stdout"
        }
      ]
    },
    {
      "cell_type": "code",
      "metadata": {
        "id": "AArfjujcSsxe",
        "colab": {
          "base_uri": "https://localhost:8080/"
        },
        "outputId": "c67121be-54ec-46bf-cbb0-9829bdc51f2c"
      },
      "source": [
        "cd drive/MyDrive/Lane_Detection/"
      ],
      "execution_count": null,
      "outputs": [
        {
          "output_type": "stream",
          "text": [
            "/content/drive/MyDrive/Lane_Detection\n"
          ],
          "name": "stdout"
        }
      ]
    },
    {
      "cell_type": "code",
      "metadata": {
        "id": "0sv2gEwKS14Y",
        "colab": {
          "base_uri": "https://localhost:8080/"
        },
        "outputId": "10051739-a39a-4b60-fd3e-9b694e5f9b0e"
      },
      "source": [
        "!pip install import_ipynb "
      ],
      "execution_count": null,
      "outputs": [
        {
          "output_type": "stream",
          "text": [
            "Collecting import_ipynb\n",
            "  Downloading import-ipynb-0.1.3.tar.gz (4.0 kB)\n",
            "Building wheels for collected packages: import-ipynb\n",
            "  Building wheel for import-ipynb (setup.py) ... \u001b[?25l\u001b[?25hdone\n",
            "  Created wheel for import-ipynb: filename=import_ipynb-0.1.3-py3-none-any.whl size=2975 sha256=46551ebae1b5b849a7e4d03958bc42b88299765b7c50a20b9b3d7b59877dfb04\n",
            "  Stored in directory: /root/.cache/pip/wheels/b1/5e/dc/79780689896a056199b0b9f24471e3ee184fbd816df355d5f0\n",
            "Successfully built import-ipynb\n",
            "Installing collected packages: import-ipynb\n",
            "Successfully installed import-ipynb-0.1.3\n"
          ],
          "name": "stdout"
        }
      ]
    },
    {
      "cell_type": "code",
      "metadata": {
        "id": "jS37l7l5THwP"
      },
      "source": [
        "import torch\n",
        "import torch.nn as nn\n",
        "from torch.utils.data import DataLoader\n",
        "import numpy as np\n",
        "import matplotlib.pyplot as plt\n",
        "import cv2\n",
        "import os.path as ops\n",
        "import time\n",
        "import import_ipynb\n",
        "from torch.autograd import Variable\n",
        "\n",
        "from dataset.dataset_Hnet import HNet_dataset\n",
        "from models.Hnet import Hnet"
      ],
      "execution_count": null,
      "outputs": []
    },
    {
      "cell_type": "markdown",
      "metadata": {
        "id": "h0nBoMDhTLBE"
      },
      "source": [
        "# Hnet Loss function"
      ]
    },
    {
      "cell_type": "code",
      "metadata": {
        "id": "AfdIPCZuS2Qw"
      },
      "source": [
        "class HNet_loss(nn.Module):\n",
        "  def __init__(self):\n",
        "    super(HNet_loss,self).__init__()\n",
        "\n",
        "  def forward(self,gt_points, predicted_coef):\n",
        "    batch_size = predicted_coef.shape[0]\n",
        "    hnet_loss = torch.tensor(0.).to(device)\n",
        "    for dimen in range(batch_size):\n",
        "      hnet_loss += self.hnet_loss(gt_points,predicted_coef)\n",
        "    return hnet_loss/batch_size;\n",
        "  \n",
        "  def hnet_loss(self,gt_points,predicted_coef):\n",
        "\n",
        "    gt_points = gt_points.view(-1,3)\n",
        "    predicted_coef = predicted_coef.view(6).to(device)\n",
        "\n",
        "    #creating H matrix\n",
        "    predicted_coef = torch.cat([predicted_coef, torch.tensor([1.0]).to(device)])\n",
        "    H_indices = torch.tensor([0, 1, 2, 4, 5, 7, 8], dtype=torch.long).to(device)\n",
        "    H = torch.zeros(9, dtype=torch.float32).to(device)\n",
        "    H = H.scatter_(0, H_indices, predicted_coef)\n",
        "    H = H.view(3,3).to(device)\n",
        "    \n",
        "    #calculating H*gt_points\n",
        "    gt_points = gt_points.to(torch.float32).t() #transposes the tensor \n",
        "    projected_points = torch.mm(H,gt_points) #matrix multiplication\n",
        "\n",
        "    projected_X = projected_points[0,:].view(-1,1) #putting x indices in a vector\n",
        "    projected_Y = projected_points[1,:].view(-1,1) #putting y indices in a vector\n",
        "\n",
        "    #careting Y matirx\n",
        "    Y_matrix = torch.cat([torch.pow(projected_Y,3), torch.pow(projected_Y,2), projected_Y,torch.ones_like(projected_Y,dtype=torch.float32)],dim=1)\n",
        "    #calculating w\n",
        "    w = torch.mm(Y_matrix.t(),Y_matrix).inverse().mm(Y_matrix.t()).mm(projected_X)\n",
        "    \n",
        "    #predicted x\n",
        "    x_pred = torch.mm(Y_matrix, w)  # (n * 1)\n",
        "    #predicted x and y\n",
        "    predicted_points = torch.cat([x_pred, projected_Y, torch.ones_like(projected_Y, dtype=torch.float32)], dim=1).t()  # (3 * n)\n",
        "    #reproject\n",
        "    reprojected_points = torch.mm(H.inverse(), predicted_points)\n",
        "    #calculate loss usin mean squared error\n",
        "\n",
        "    loss = torch.mean(torch.pow(reprojected_points[0, :] - predicted_points[0, :], 2))\n",
        "    return loss;\n"
      ],
      "execution_count": null,
      "outputs": []
    },
    {
      "cell_type": "code",
      "metadata": {
        "id": "_DjzYahzRHpU"
      },
      "source": [
        "train_set = HNet_dataset('train')\n",
        "batch_size = 1\n",
        "data_loader_train = DataLoader(train_set, batch_size = batch_size, shuffle=True, num_workers=2)"
      ],
      "execution_count": null,
      "outputs": []
    },
    {
      "cell_type": "code",
      "metadata": {
        "id": "qo2QGLxwRj1m"
      },
      "source": [
        "device = torch.device('cuda') if torch.cuda.is_available() else torch.device('cpu')\n",
        "Hnet_model = Hnet()\n",
        "Hnet_model.to(device)\n",
        "\n",
        "learning_rate = 5e-2\n",
        "params = [p for p in Hnet_model.parameters() if p.requires_grad]\n",
        "optimizer = torch.optim.Adam(params, lr=learning_rate, weight_decay=0.0002)\n",
        "lr_scheduler = torch.optim.lr_scheduler.StepLR(optimizer, step_size=10, gamma=0.1)\n",
        "loss_function = HNet_loss()\n",
        "num_epochs = 200"
      ],
      "execution_count": null,
      "outputs": []
    },
    {
      "cell_type": "code",
      "metadata": {
        "colab": {
          "base_uri": "https://localhost:8080/",
          "height": 1000
        },
        "id": "-_6P4WN-Tong",
        "outputId": "2d18a2e8-5b84-42d7-9049-a67346d8ae35"
      },
      "source": [
        "Hnet_loss = []\n",
        "\n",
        "for epoch in range(num_epochs):\n",
        "  Hnet_model.train()\n",
        "  ts = time.time()\n",
        "  for iter,batch in enumerate(data_loader_train):\n",
        "\n",
        "    gt_image = Variable(batch[0]).to(device)\n",
        "    gt_points = Variable(batch[1]).to(device)\n",
        "\n",
        "    predicted_coef = Hnet_model(gt_image)\n",
        "    loss = loss_function(gt_points = gt_points ,predicted_coef = predicted_coef)\n",
        "    Hnet_loss.append(loss.item())\n",
        "\n",
        "    optimizer.zero_grad()\n",
        "    loss.backward()\n",
        "    optimizer.step()\n",
        "    if iter%400 == 0:\n",
        "      print(\"epoch={} , iter= {} , Hnet_loss={}\".format(epoch,iter,loss))\n",
        "\n",
        "  lr_scheduler.step()\n",
        "  print(\"Finish epoch[{}], time elapsed[{}]\".format(epoch, time.time() - ts))\n",
        "  torch.save(Hnet_model.state_dict(), f\"Hnet_model{epoch}_batch_{batch_size}.pth\")"
      ],
      "execution_count": null,
      "outputs": [
        {
          "output_type": "stream",
          "text": [
            "/usr/local/lib/python3.7/dist-packages/torch/nn/functional.py:718: UserWarning: Named tensors and all their associated APIs are an experimental feature and subject to change. Please do not use them for anything important until they are released as stable. (Triggered internally at  /pytorch/c10/core/TensorImpl.h:1156.)\n",
            "  return torch.max_pool2d(input, kernel_size, stride, padding, dilation, ceil_mode)\n"
          ],
          "name": "stderr"
        },
        {
          "output_type": "stream",
          "text": [
            "epoch=0 , iter= 0 , Hnet_loss=1725.78173828125\n",
            "epoch=0 , iter= 400 , Hnet_loss=268203.3125\n",
            "epoch=0 , iter= 800 , Hnet_loss=6836.052734375\n",
            "epoch=0 , iter= 1200 , Hnet_loss=8934.931640625\n",
            "epoch=0 , iter= 1600 , Hnet_loss=46098.4140625\n",
            "epoch=0 , iter= 2000 , Hnet_loss=81639.1015625\n",
            "epoch=0 , iter= 2400 , Hnet_loss=66239.84375\n",
            "epoch=0 , iter= 2800 , Hnet_loss=457700.4375\n",
            "Finish epoch[0], time elapsed[741.2354283332825]\n",
            "epoch=1 , iter= 0 , Hnet_loss=153299.390625\n",
            "epoch=1 , iter= 400 , Hnet_loss=38501.30859375\n",
            "epoch=1 , iter= 800 , Hnet_loss=235405.328125\n",
            "epoch=1 , iter= 1200 , Hnet_loss=84836.6953125\n",
            "epoch=1 , iter= 1600 , Hnet_loss=91342.3515625\n",
            "epoch=1 , iter= 2000 , Hnet_loss=1231982.125\n",
            "epoch=1 , iter= 2400 , Hnet_loss=156422.59375\n",
            "epoch=1 , iter= 2800 , Hnet_loss=255593.75\n",
            "Finish epoch[1], time elapsed[65.91449451446533]\n",
            "epoch=2 , iter= 0 , Hnet_loss=303280.78125\n",
            "epoch=2 , iter= 400 , Hnet_loss=283174.28125\n",
            "epoch=2 , iter= 800 , Hnet_loss=3841664.75\n",
            "epoch=2 , iter= 1200 , Hnet_loss=119427.8671875\n",
            "epoch=2 , iter= 1600 , Hnet_loss=82994.515625\n",
            "epoch=2 , iter= 2000 , Hnet_loss=189871.078125\n",
            "epoch=2 , iter= 2400 , Hnet_loss=117524.2265625\n",
            "epoch=2 , iter= 2800 , Hnet_loss=489381.6875\n",
            "Finish epoch[2], time elapsed[65.4398603439331]\n",
            "epoch=3 , iter= 0 , Hnet_loss=326888.90625\n",
            "epoch=3 , iter= 400 , Hnet_loss=8739253.0\n",
            "epoch=3 , iter= 800 , Hnet_loss=403312.03125\n",
            "epoch=3 , iter= 1200 , Hnet_loss=3774036.5\n",
            "epoch=3 , iter= 1600 , Hnet_loss=97083.421875\n",
            "epoch=3 , iter= 2000 , Hnet_loss=34609.25\n",
            "epoch=3 , iter= 2400 , Hnet_loss=6010311.5\n",
            "epoch=3 , iter= 2800 , Hnet_loss=2512393.5\n",
            "Finish epoch[3], time elapsed[65.05694723129272]\n",
            "epoch=4 , iter= 0 , Hnet_loss=1583693.125\n",
            "epoch=4 , iter= 800 , Hnet_loss=921282.625\n",
            "epoch=4 , iter= 1200 , Hnet_loss=37068.296875\n",
            "epoch=4 , iter= 1600 , Hnet_loss=720203.0625\n",
            "epoch=4 , iter= 2000 , Hnet_loss=79984.9921875\n",
            "epoch=4 , iter= 2400 , Hnet_loss=60532.8984375\n",
            "epoch=4 , iter= 2800 , Hnet_loss=12041560.0\n",
            "Finish epoch[4], time elapsed[65.5806884765625]\n",
            "epoch=5 , iter= 0 , Hnet_loss=5863023.5\n",
            "epoch=5 , iter= 400 , Hnet_loss=876437.4375\n",
            "epoch=5 , iter= 800 , Hnet_loss=20935294.0\n",
            "epoch=5 , iter= 1200 , Hnet_loss=9044811.0\n",
            "epoch=5 , iter= 1600 , Hnet_loss=4106355.75\n",
            "epoch=5 , iter= 2000 , Hnet_loss=3829762.75\n",
            "epoch=5 , iter= 2400 , Hnet_loss=477850.875\n",
            "epoch=5 , iter= 2800 , Hnet_loss=1543818.75\n",
            "Finish epoch[5], time elapsed[65.30261826515198]\n",
            "epoch=6 , iter= 0 , Hnet_loss=393225.71875\n",
            "epoch=6 , iter= 400 , Hnet_loss=2767507.5\n",
            "epoch=6 , iter= 800 , Hnet_loss=47598008.0\n",
            "epoch=6 , iter= 1200 , Hnet_loss=37098264.0\n",
            "epoch=6 , iter= 1600 , Hnet_loss=29155862.0\n",
            "epoch=6 , iter= 2000 , Hnet_loss=12790450.0\n",
            "epoch=6 , iter= 2400 , Hnet_loss=394443.09375\n",
            "epoch=6 , iter= 2800 , Hnet_loss=1159889.75\n",
            "Finish epoch[6], time elapsed[64.96208834648132]\n",
            "epoch=7 , iter= 0 , Hnet_loss=2998444.75\n",
            "epoch=7 , iter= 400 , Hnet_loss=2098529.75\n",
            "epoch=7 , iter= 800 , Hnet_loss=609771.8125\n",
            "epoch=7 , iter= 1200 , Hnet_loss=5713448.0\n",
            "epoch=7 , iter= 1600 , Hnet_loss=1884046.25\n",
            "epoch=7 , iter= 2000 , Hnet_loss=294571.875\n",
            "epoch=7 , iter= 2400 , Hnet_loss=4779436.0\n",
            "epoch=7 , iter= 2800 , Hnet_loss=4894412.5\n",
            "Finish epoch[7], time elapsed[65.18346333503723]\n",
            "epoch=8 , iter= 0 , Hnet_loss=137800.734375\n",
            "epoch=8 , iter= 400 , Hnet_loss=3500331.25\n",
            "epoch=8 , iter= 800 , Hnet_loss=337132.0625\n",
            "epoch=8 , iter= 1200 , Hnet_loss=46855188.0\n",
            "epoch=8 , iter= 1600 , Hnet_loss=2311128.25\n",
            "epoch=8 , iter= 2000 , Hnet_loss=1378333.0\n",
            "epoch=8 , iter= 2400 , Hnet_loss=1125948.25\n",
            "epoch=8 , iter= 2800 , Hnet_loss=5288013.5\n",
            "Finish epoch[8], time elapsed[65.10569095611572]\n",
            "epoch=9 , iter= 0 , Hnet_loss=8260902.5\n",
            "epoch=9 , iter= 400 , Hnet_loss=1712586.375\n",
            "epoch=9 , iter= 800 , Hnet_loss=71191.890625\n",
            "epoch=9 , iter= 1200 , Hnet_loss=298549.25\n",
            "epoch=9 , iter= 1600 , Hnet_loss=1012173.0625\n",
            "epoch=9 , iter= 2000 , Hnet_loss=397764.78125\n",
            "epoch=9 , iter= 2400 , Hnet_loss=3050.783203125\n",
            "epoch=9 , iter= 2800 , Hnet_loss=5313411.0\n",
            "Finish epoch[9], time elapsed[66.99273443222046]\n",
            "epoch=10 , iter= 0 , Hnet_loss=92120152.0\n",
            "epoch=10 , iter= 400 , Hnet_loss=110922776.0\n",
            "epoch=10 , iter= 800 , Hnet_loss=59389260.0\n",
            "epoch=10 , iter= 1200 , Hnet_loss=26236636.0\n",
            "epoch=10 , iter= 1600 , Hnet_loss=24814372.0\n",
            "epoch=10 , iter= 2000 , Hnet_loss=11804758.0\n",
            "epoch=10 , iter= 2400 , Hnet_loss=1504930.625\n",
            "epoch=10 , iter= 2800 , Hnet_loss=nan\n",
            "Finish epoch[10], time elapsed[65.0927345752716]\n",
            "epoch=11 , iter= 0 , Hnet_loss=nan\n",
            "epoch=11 , iter= 400 , Hnet_loss=nan\n",
            "epoch=11 , iter= 800 , Hnet_loss=nan\n",
            "epoch=11 , iter= 1200 , Hnet_loss=nan\n",
            "epoch=11 , iter= 1600 , Hnet_loss=nan\n",
            "epoch=11 , iter= 2000 , Hnet_loss=nan\n",
            "epoch=11 , iter= 2400 , Hnet_loss=nan\n",
            "epoch=11 , iter= 2800 , Hnet_loss=nan\n",
            "Finish epoch[11], time elapsed[64.9110655784607]\n",
            "epoch=12 , iter= 0 , Hnet_loss=nan\n",
            "epoch=12 , iter= 400 , Hnet_loss=nan\n",
            "epoch=12 , iter= 800 , Hnet_loss=nan\n",
            "epoch=12 , iter= 1200 , Hnet_loss=nan\n",
            "epoch=12 , iter= 1600 , Hnet_loss=nan\n",
            "epoch=12 , iter= 2000 , Hnet_loss=nan\n",
            "epoch=12 , iter= 2400 , Hnet_loss=nan\n",
            "epoch=12 , iter= 2800 , Hnet_loss=nan\n",
            "Finish epoch[12], time elapsed[64.92263269424438]\n",
            "epoch=13 , iter= 0 , Hnet_loss=nan\n",
            "epoch=13 , iter= 400 , Hnet_loss=nan\n",
            "epoch=13 , iter= 800 , Hnet_loss=nan\n",
            "epoch=13 , iter= 1200 , Hnet_loss=nan\n",
            "epoch=13 , iter= 1600 , Hnet_loss=nan\n",
            "epoch=13 , iter= 2000 , Hnet_loss=nan\n",
            "epoch=13 , iter= 2400 , Hnet_loss=nan\n",
            "epoch=13 , iter= 2800 , Hnet_loss=nan\n",
            "Finish epoch[13], time elapsed[65.14725160598755]\n",
            "epoch=14 , iter= 0 , Hnet_loss=nan\n",
            "epoch=14 , iter= 400 , Hnet_loss=nan\n",
            "epoch=14 , iter= 800 , Hnet_loss=nan\n",
            "epoch=14 , iter= 1200 , Hnet_loss=nan\n",
            "epoch=14 , iter= 1600 , Hnet_loss=nan\n",
            "epoch=14 , iter= 2000 , Hnet_loss=nan\n",
            "epoch=14 , iter= 2400 , Hnet_loss=nan\n",
            "epoch=14 , iter= 2800 , Hnet_loss=nan\n",
            "Finish epoch[14], time elapsed[65.70398879051208]\n",
            "epoch=15 , iter= 0 , Hnet_loss=nan\n",
            "epoch=15 , iter= 400 , Hnet_loss=nan\n",
            "epoch=15 , iter= 800 , Hnet_loss=nan\n",
            "epoch=15 , iter= 1200 , Hnet_loss=nan\n",
            "epoch=15 , iter= 1600 , Hnet_loss=nan\n",
            "epoch=15 , iter= 2000 , Hnet_loss=nan\n",
            "epoch=15 , iter= 2400 , Hnet_loss=nan\n",
            "Finish epoch[15], time elapsed[64.98180174827576]\n",
            "epoch=16 , iter= 0 , Hnet_loss=nan\n",
            "epoch=16 , iter= 400 , Hnet_loss=nan\n",
            "epoch=16 , iter= 800 , Hnet_loss=nan\n",
            "epoch=16 , iter= 1200 , Hnet_loss=nan\n",
            "epoch=16 , iter= 1600 , Hnet_loss=nan\n",
            "epoch=16 , iter= 2000 , Hnet_loss=nan\n",
            "epoch=16 , iter= 2400 , Hnet_loss=nan\n",
            "epoch=16 , iter= 2800 , Hnet_loss=nan\n",
            "Finish epoch[16], time elapsed[65.0754542350769]\n",
            "epoch=17 , iter= 0 , Hnet_loss=nan\n",
            "epoch=17 , iter= 400 , Hnet_loss=nan\n",
            "epoch=17 , iter= 800 , Hnet_loss=nan\n",
            "epoch=17 , iter= 1200 , Hnet_loss=nan\n",
            "epoch=17 , iter= 1600 , Hnet_loss=nan\n",
            "epoch=17 , iter= 2000 , Hnet_loss=nan\n",
            "epoch=17 , iter= 2400 , Hnet_loss=nan\n",
            "epoch=17 , iter= 2800 , Hnet_loss=nan\n",
            "Finish epoch[17], time elapsed[65.33154034614563]\n",
            "epoch=18 , iter= 0 , Hnet_loss=nan\n",
            "epoch=18 , iter= 400 , Hnet_loss=nan\n",
            "epoch=18 , iter= 800 , Hnet_loss=nan\n",
            "epoch=18 , iter= 1200 , Hnet_loss=nan\n",
            "epoch=18 , iter= 1600 , Hnet_loss=nan\n",
            "epoch=18 , iter= 2000 , Hnet_loss=nan\n",
            "epoch=18 , iter= 2400 , Hnet_loss=nan\n",
            "epoch=18 , iter= 2800 , Hnet_loss=nan\n",
            "Finish epoch[18], time elapsed[64.8164575099945]\n",
            "epoch=19 , iter= 0 , Hnet_loss=nan\n",
            "epoch=19 , iter= 400 , Hnet_loss=nan\n",
            "epoch=19 , iter= 800 , Hnet_loss=nan\n",
            "epoch=19 , iter= 1200 , Hnet_loss=nan\n",
            "epoch=19 , iter= 1600 , Hnet_loss=nan\n",
            "epoch=19 , iter= 2000 , Hnet_loss=nan\n",
            "epoch=19 , iter= 2400 , Hnet_loss=nan\n",
            "epoch=19 , iter= 2800 , Hnet_loss=nan\n",
            "Finish epoch[19], time elapsed[66.11853003501892]\n",
            "epoch=20 , iter= 0 , Hnet_loss=nan\n",
            "epoch=20 , iter= 400 , Hnet_loss=nan\n",
            "epoch=20 , iter= 800 , Hnet_loss=nan\n",
            "epoch=20 , iter= 1200 , Hnet_loss=nan\n",
            "epoch=20 , iter= 1600 , Hnet_loss=nan\n",
            "epoch=20 , iter= 2000 , Hnet_loss=nan\n",
            "epoch=20 , iter= 2800 , Hnet_loss=nan\n",
            "Finish epoch[20], time elapsed[64.58381581306458]\n",
            "epoch=21 , iter= 0 , Hnet_loss=nan\n",
            "epoch=21 , iter= 400 , Hnet_loss=nan\n",
            "epoch=21 , iter= 800 , Hnet_loss=nan\n",
            "epoch=21 , iter= 1200 , Hnet_loss=nan\n",
            "epoch=21 , iter= 1600 , Hnet_loss=nan\n",
            "epoch=21 , iter= 2000 , Hnet_loss=nan\n",
            "epoch=21 , iter= 2400 , Hnet_loss=nan\n",
            "epoch=21 , iter= 2800 , Hnet_loss=nan\n",
            "Finish epoch[21], time elapsed[64.60540580749512]\n",
            "epoch=22 , iter= 0 , Hnet_loss=nan\n",
            "epoch=22 , iter= 400 , Hnet_loss=nan\n",
            "epoch=22 , iter= 800 , Hnet_loss=nan\n",
            "epoch=22 , iter= 1200 , Hnet_loss=nan\n",
            "epoch=22 , iter= 1600 , Hnet_loss=nan\n",
            "epoch=22 , iter= 2000 , Hnet_loss=nan\n",
            "epoch=22 , iter= 2400 , Hnet_loss=nan\n"
          ],
          "name": "stdout"
        },
        {
          "output_type": "error",
          "ename": "KeyboardInterrupt",
          "evalue": "ignored",
          "traceback": [
            "\u001b[0;31m---------------------------------------------------------------------------\u001b[0m",
            "\u001b[0;31mKeyboardInterrupt\u001b[0m                         Traceback (most recent call last)",
            "\u001b[0;32m<ipython-input-8-62b462d48899>\u001b[0m in \u001b[0;36m<module>\u001b[0;34m()\u001b[0m\n\u001b[1;32m     14\u001b[0m \u001b[0;34m\u001b[0m\u001b[0m\n\u001b[1;32m     15\u001b[0m     \u001b[0moptimizer\u001b[0m\u001b[0;34m.\u001b[0m\u001b[0mzero_grad\u001b[0m\u001b[0;34m(\u001b[0m\u001b[0;34m)\u001b[0m\u001b[0;34m\u001b[0m\u001b[0;34m\u001b[0m\u001b[0m\n\u001b[0;32m---> 16\u001b[0;31m     \u001b[0mloss\u001b[0m\u001b[0;34m.\u001b[0m\u001b[0mbackward\u001b[0m\u001b[0;34m(\u001b[0m\u001b[0;34m)\u001b[0m\u001b[0;34m\u001b[0m\u001b[0;34m\u001b[0m\u001b[0m\n\u001b[0m\u001b[1;32m     17\u001b[0m     \u001b[0moptimizer\u001b[0m\u001b[0;34m.\u001b[0m\u001b[0mstep\u001b[0m\u001b[0;34m(\u001b[0m\u001b[0;34m)\u001b[0m\u001b[0;34m\u001b[0m\u001b[0;34m\u001b[0m\u001b[0m\n\u001b[1;32m     18\u001b[0m     \u001b[0;32mif\u001b[0m \u001b[0miter\u001b[0m\u001b[0;34m%\u001b[0m\u001b[0;36m400\u001b[0m \u001b[0;34m==\u001b[0m \u001b[0;36m0\u001b[0m\u001b[0;34m:\u001b[0m\u001b[0;34m\u001b[0m\u001b[0;34m\u001b[0m\u001b[0m\n",
            "\u001b[0;32m/usr/local/lib/python3.7/dist-packages/torch/_tensor.py\u001b[0m in \u001b[0;36mbackward\u001b[0;34m(self, gradient, retain_graph, create_graph, inputs)\u001b[0m\n\u001b[1;32m    253\u001b[0m                 \u001b[0mcreate_graph\u001b[0m\u001b[0;34m=\u001b[0m\u001b[0mcreate_graph\u001b[0m\u001b[0;34m,\u001b[0m\u001b[0;34m\u001b[0m\u001b[0;34m\u001b[0m\u001b[0m\n\u001b[1;32m    254\u001b[0m                 inputs=inputs)\n\u001b[0;32m--> 255\u001b[0;31m         \u001b[0mtorch\u001b[0m\u001b[0;34m.\u001b[0m\u001b[0mautograd\u001b[0m\u001b[0;34m.\u001b[0m\u001b[0mbackward\u001b[0m\u001b[0;34m(\u001b[0m\u001b[0mself\u001b[0m\u001b[0;34m,\u001b[0m \u001b[0mgradient\u001b[0m\u001b[0;34m,\u001b[0m \u001b[0mretain_graph\u001b[0m\u001b[0;34m,\u001b[0m \u001b[0mcreate_graph\u001b[0m\u001b[0;34m,\u001b[0m \u001b[0minputs\u001b[0m\u001b[0;34m=\u001b[0m\u001b[0minputs\u001b[0m\u001b[0;34m)\u001b[0m\u001b[0;34m\u001b[0m\u001b[0;34m\u001b[0m\u001b[0m\n\u001b[0m\u001b[1;32m    256\u001b[0m \u001b[0;34m\u001b[0m\u001b[0m\n\u001b[1;32m    257\u001b[0m     \u001b[0;32mdef\u001b[0m \u001b[0mregister_hook\u001b[0m\u001b[0;34m(\u001b[0m\u001b[0mself\u001b[0m\u001b[0;34m,\u001b[0m \u001b[0mhook\u001b[0m\u001b[0;34m)\u001b[0m\u001b[0;34m:\u001b[0m\u001b[0;34m\u001b[0m\u001b[0;34m\u001b[0m\u001b[0m\n",
            "\u001b[0;32m/usr/local/lib/python3.7/dist-packages/torch/autograd/__init__.py\u001b[0m in \u001b[0;36mbackward\u001b[0;34m(tensors, grad_tensors, retain_graph, create_graph, grad_variables, inputs)\u001b[0m\n\u001b[1;32m    147\u001b[0m     Variable._execution_engine.run_backward(\n\u001b[1;32m    148\u001b[0m         \u001b[0mtensors\u001b[0m\u001b[0;34m,\u001b[0m \u001b[0mgrad_tensors_\u001b[0m\u001b[0;34m,\u001b[0m \u001b[0mretain_graph\u001b[0m\u001b[0;34m,\u001b[0m \u001b[0mcreate_graph\u001b[0m\u001b[0;34m,\u001b[0m \u001b[0minputs\u001b[0m\u001b[0;34m,\u001b[0m\u001b[0;34m\u001b[0m\u001b[0;34m\u001b[0m\u001b[0m\n\u001b[0;32m--> 149\u001b[0;31m         allow_unreachable=True, accumulate_grad=True)  # allow_unreachable flag\n\u001b[0m\u001b[1;32m    150\u001b[0m \u001b[0;34m\u001b[0m\u001b[0m\n\u001b[1;32m    151\u001b[0m \u001b[0;34m\u001b[0m\u001b[0m\n",
            "\u001b[0;31mKeyboardInterrupt\u001b[0m: "
          ]
        }
      ]
    },
    {
      "cell_type": "code",
      "metadata": {
        "colab": {
          "base_uri": "https://localhost:8080/",
          "height": 312
        },
        "id": "qrzYcDbPVmcj",
        "outputId": "9d984efb-08a2-4aba-b646-1291fe045906"
      },
      "source": [
        "import matplotlib.pylab as plt\n",
        "%matplotlib inline\n",
        "plt.title('loss over iterations')\n",
        "plt.xlabel('iterations')\n",
        "plt.ylabel('loss')\n",
        "plt.plot(Hnet_loss)"
      ],
      "execution_count": null,
      "outputs": [
        {
          "output_type": "execute_result",
          "data": {
            "text/plain": [
              "[<matplotlib.lines.Line2D at 0x7fa651f6c290>]"
            ]
          },
          "metadata": {
            "tags": []
          },
          "execution_count": 9
        },
        {
          "output_type": "display_data",
          "data": {
            "image/png": "[encoded data removed]",
            "text/plain": [
              "<Figure size 432x288 with 1 Axes>"
            ]
          },
          "metadata": {
            "tags": [],
            "needs_background": "light"
          }
        }
      ]
    },
    {
      "cell_type": "code",
      "metadata": {
        "id": "YLIGcgLMiwK_",
        "colab": {
          "base_uri": "https://localhost:8080/",
          "height": 312
        },
        "outputId": "6373d75e-b3a2-4eee-b902-c9a2b09a181e"
      },
      "source": [
        "import matplotlib.pylab as plt\n",
        "%matplotlib inline\n",
        "plt.title('loss over iterations')\n",
        "plt.xlabel('iterations')\n",
        "plt.ylabel('loss')\n",
        "plt.plot(Hnet_loss)"
      ],
      "execution_count": null,
      "outputs": [
        {
          "output_type": "execute_result",
          "data": {
            "text/plain": [
              "[<matplotlib.lines.Line2D at 0x7f71cb656490>]"
            ]
          },
          "metadata": {
            "tags": []
          },
          "execution_count": 59
        },
        {
          "output_type": "display_data",
          "data": {
            "image/png": "[encoded data removed]",
            "text/plain": [
              "<Figure size 432x288 with 1 Axes>"
            ]
          },
          "metadata": {
            "tags": [],
            "needs_background": "light"
          }
        }
      ]
    },
    {
      "cell_type": "code",
      "metadata": {
        "id": "tNMihTlUiwQu"
      },
      "source": [
        ""
      ],
      "execution_count": null,
      "outputs": []
    },
    {
      "cell_type": "code",
      "metadata": {
        "colab": {
          "base_uri": "https://localhost:8080/"
        },
        "id": "BMyGDu8Jf1rn",
        "outputId": "f98d4949-bfe3-4775-d600-623b17bed9f4"
      },
      "source": [
        "print(learning_rate)"
      ],
      "execution_count": null,
      "outputs": [
        {
          "output_type": "stream",
          "text": [
            "0.0005\n"
          ],
          "name": "stdout"
        }
      ]
    },
    {
      "cell_type": "code",
      "metadata": {
        "id": "zxJDCEJxgHWF"
      },
      "source": [
        ""
      ],
      "execution_count": null,
      "outputs": []
    }
  ]
}