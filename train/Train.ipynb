{
  "nbformat": 4,
  "nbformat_minor": 0,
  "metadata": {
    "colab": {
      "name": "Train.ipynb",
      "provenance": [],
      "collapsed_sections": [],
      "include_colab_link": true
    },
    "kernelspec": {
      "display_name": "Python 3",
      "language": "python",
      "name": "python3"
    },
    "language_info": {
      "codemirror_mode": {
        "name": "ipython",
        "version": 3
      },
      "file_extension": ".py",
      "mimetype": "text/x-python",
      "name": "python",
      "nbconvert_exporter": "python",
      "pygments_lexer": "ipython3",
      "version": "3.6.10"
    }
  },
  "cells": [
    {
      "cell_type": "markdown",
      "metadata": {
        "id": "view-in-github",
        "colab_type": "text"
      },
      "source": [
        "<a href=\"https://colab.research.google.com/github/taravatp/roadLane_InstanceSegmentation/blob/main/train/Train.ipynb\" target=\"_parent\"><img src=\"https://colab.research.google.com/assets/colab-badge.svg\" alt=\"Open In Colab\"/></a>"
      ]
    },
    {
      "cell_type": "markdown",
      "metadata": {
        "id": "DWWjd6iVsu-_"
      },
      "source": [
        "\n",
        "# Install required packages and import them"
      ]
    },
    {
      "cell_type": "code",
      "metadata": {
        "id": "vbvRgqUbeT7U",
        "colab": {
          "base_uri": "https://localhost:8080/"
        },
        "outputId": "dd91815b-55f9-455c-d580-c472b02573d1"
      },
      "source": [
        "from google.colab import drive\n",
        "drive.mount('/content/drive')"
      ],
      "execution_count": null,
      "outputs": [
        {
          "output_type": "stream",
          "text": [
            "Mounted at /content/drive\n"
          ],
          "name": "stdout"
        }
      ]
    },
    {
      "cell_type": "code",
      "metadata": {
        "id": "RiwNFKcUwt3r",
        "colab": {
          "base_uri": "https://localhost:8080/"
        },
        "outputId": "d3f1aa10-cd10-4bee-8545-1008f15d7fa5"
      },
      "source": [
        "cd drive/MyDrive/Lane_Detection/"
      ],
      "execution_count": null,
      "outputs": [
        {
          "output_type": "stream",
          "text": [
            "/content/drive/MyDrive/Lane_Detection\n"
          ],
          "name": "stdout"
        }
      ]
    },
    {
      "cell_type": "code",
      "metadata": {
        "id": "pVGsg_ePM85W",
        "colab": {
          "base_uri": "https://localhost:8080/"
        },
        "outputId": "59ab5d5b-1c20-4cff-e5e5-c16a4126ace4"
      },
      "source": [
        "!pip install torch-scatter -f https://pytorch-geometric.com/whl/torch-1.9.0+cu102.html\n",
        "!pip install torch-sparse -f https://pytorch-geometric.com/whl/torch-1.9.0+cu102.html\n",
        "!pip install torch-cluster -f https://pytorch-geometric.com/whl/torch-1.9.0+cu102.html\n",
        "!pip install torch-spline-conv -f https://pytorch-geometric.com/whl/torch-1.8.1+cu102.html\n",
        "!pip install torch-geometric"
      ],
      "execution_count": null,
      "outputs": [
        {
          "output_type": "stream",
          "text": [
            "Looking in links: https://pytorch-geometric.com/whl/torch-1.9.0+cu102.html\n",
            "Collecting torch-scatter\n",
            "  Downloading https://pytorch-geometric.com/whl/torch-1.9.0%2Bcu102/torch_scatter-2.0.8-cp37-cp37m-linux_x86_64.whl (3.0 MB)\n",
            "\u001b[K     |████████████████████████████████| 3.0 MB 2.8 MB/s \n",
            "\u001b[?25hInstalling collected packages: torch-scatter\n",
            "Successfully installed torch-scatter-2.0.8\n",
            "Looking in links: https://pytorch-geometric.com/whl/torch-1.9.0+cu102.html\n",
            "Collecting torch-sparse\n",
            "  Downloading https://pytorch-geometric.com/whl/torch-1.9.0%2Bcu102/torch_sparse-0.6.11-cp37-cp37m-linux_x86_64.whl (1.6 MB)\n",
            "\u001b[K     |████████████████████████████████| 1.6 MB 2.6 MB/s \n",
            "\u001b[?25hRequirement already satisfied: scipy in /usr/local/lib/python3.7/dist-packages (from torch-sparse) (1.4.1)\n",
            "Requirement already satisfied: numpy>=1.13.3 in /usr/local/lib/python3.7/dist-packages (from scipy->torch-sparse) (1.19.5)\n",
            "Installing collected packages: torch-sparse\n",
            "Successfully installed torch-sparse-0.6.11\n",
            "Looking in links: https://pytorch-geometric.com/whl/torch-1.9.0+cu102.html\n",
            "Collecting torch-cluster\n",
            "  Downloading https://pytorch-geometric.com/whl/torch-1.9.0%2Bcu102/torch_cluster-1.5.9-cp37-cp37m-linux_x86_64.whl (926 kB)\n",
            "\u001b[K     |████████████████████████████████| 926 kB 2.6 MB/s \n",
            "\u001b[?25hInstalling collected packages: torch-cluster\n",
            "Successfully installed torch-cluster-1.5.9\n",
            "Looking in links: https://pytorch-geometric.com/whl/torch-1.8.1+cu102.html\n",
            "Collecting torch-spline-conv\n",
            "  Downloading https://pytorch-geometric.com/whl/torch-1.8.0%2Bcu102/torch_spline_conv-1.2.1-cp37-cp37m-linux_x86_64.whl (390 kB)\n",
            "\u001b[K     |████████████████████████████████| 390 kB 411 kB/s \n",
            "\u001b[?25hInstalling collected packages: torch-spline-conv\n",
            "Successfully installed torch-spline-conv-1.2.1\n",
            "Collecting torch-geometric\n",
            "  Downloading torch_geometric-1.7.2.tar.gz (222 kB)\n",
            "\u001b[K     |████████████████████████████████| 222 kB 5.2 MB/s \n",
            "\u001b[?25hRequirement already satisfied: numpy in /usr/local/lib/python3.7/dist-packages (from torch-geometric) (1.19.5)\n",
            "Requirement already satisfied: tqdm in /usr/local/lib/python3.7/dist-packages (from torch-geometric) (4.62.0)\n",
            "Requirement already satisfied: scipy in /usr/local/lib/python3.7/dist-packages (from torch-geometric) (1.4.1)\n",
            "Requirement already satisfied: networkx in /usr/local/lib/python3.7/dist-packages (from torch-geometric) (2.6.2)\n",
            "Requirement already satisfied: python-louvain in /usr/local/lib/python3.7/dist-packages (from torch-geometric) (0.15)\n",
            "Requirement already satisfied: scikit-learn in /usr/local/lib/python3.7/dist-packages (from torch-geometric) (0.22.2.post1)\n",
            "Requirement already satisfied: requests in /usr/local/lib/python3.7/dist-packages (from torch-geometric) (2.23.0)\n",
            "Requirement already satisfied: pandas in /usr/local/lib/python3.7/dist-packages (from torch-geometric) (1.1.5)\n",
            "Collecting rdflib\n",
            "  Downloading rdflib-6.0.0-py3-none-any.whl (376 kB)\n",
            "\u001b[K     |████████████████████████████████| 376 kB 37.1 MB/s \n",
            "\u001b[?25hRequirement already satisfied: googledrivedownloader in /usr/local/lib/python3.7/dist-packages (from torch-geometric) (0.4)\n",
            "Requirement already satisfied: jinja2 in /usr/local/lib/python3.7/dist-packages (from torch-geometric) (2.11.3)\n",
            "Requirement already satisfied: pyparsing in /usr/local/lib/python3.7/dist-packages (from torch-geometric) (2.4.7)\n",
            "Requirement already satisfied: MarkupSafe>=0.23 in /usr/local/lib/python3.7/dist-packages (from jinja2->torch-geometric) (2.0.1)\n",
            "Requirement already satisfied: pytz>=2017.2 in /usr/local/lib/python3.7/dist-packages (from pandas->torch-geometric) (2018.9)\n",
            "Requirement already satisfied: python-dateutil>=2.7.3 in /usr/local/lib/python3.7/dist-packages (from pandas->torch-geometric) (2.8.2)\n",
            "Requirement already satisfied: six>=1.5 in /usr/local/lib/python3.7/dist-packages (from python-dateutil>=2.7.3->pandas->torch-geometric) (1.15.0)\n",
            "Requirement already satisfied: setuptools in /usr/local/lib/python3.7/dist-packages (from rdflib->torch-geometric) (57.4.0)\n",
            "Collecting isodate\n",
            "  Downloading isodate-0.6.0-py2.py3-none-any.whl (45 kB)\n",
            "\u001b[K     |████████████████████████████████| 45 kB 3.0 MB/s \n",
            "\u001b[?25hRequirement already satisfied: certifi>=2017.4.17 in /usr/local/lib/python3.7/dist-packages (from requests->torch-geometric) (2021.5.30)\n",
            "Requirement already satisfied: chardet<4,>=3.0.2 in /usr/local/lib/python3.7/dist-packages (from requests->torch-geometric) (3.0.4)\n",
            "Requirement already satisfied: idna<3,>=2.5 in /usr/local/lib/python3.7/dist-packages (from requests->torch-geometric) (2.10)\n",
            "Requirement already satisfied: urllib3!=1.25.0,!=1.25.1,<1.26,>=1.21.1 in /usr/local/lib/python3.7/dist-packages (from requests->torch-geometric) (1.24.3)\n",
            "Requirement already satisfied: joblib>=0.11 in /usr/local/lib/python3.7/dist-packages (from scikit-learn->torch-geometric) (1.0.1)\n",
            "Building wheels for collected packages: torch-geometric\n",
            "  Building wheel for torch-geometric (setup.py) ... \u001b[?25l\u001b[?25hdone\n",
            "  Created wheel for torch-geometric: filename=torch_geometric-1.7.2-py3-none-any.whl size=388143 sha256=153fbb3421eaa31af8d8bc092e60e337706eca70de9512a50a2722b634facf45\n",
            "  Stored in directory: /root/.cache/pip/wheels/55/93/b6/2eeb0465afe89aee74d7a07a606e9770466d7565abd45a99d5\n",
            "Successfully built torch-geometric\n",
            "Installing collected packages: isodate, rdflib, torch-geometric\n",
            "Successfully installed isodate-0.6.0 rdflib-6.0.0 torch-geometric-1.7.2\n"
          ],
          "name": "stdout"
        }
      ]
    },
    {
      "cell_type": "code",
      "metadata": {
        "id": "tiB7V_Bvd7Oe",
        "colab": {
          "base_uri": "https://localhost:8080/"
        },
        "outputId": "c3b88dad-cf43-46be-e923-46293cc6ffcf"
      },
      "source": [
        "!pip install import_ipynb "
      ],
      "execution_count": null,
      "outputs": [
        {
          "output_type": "stream",
          "text": [
            "Requirement already satisfied: import_ipynb in /usr/local/lib/python3.7/dist-packages (0.1.3)\n"
          ],
          "name": "stdout"
        }
      ]
    },
    {
      "cell_type": "code",
      "metadata": {
        "id": "qeYZDznwq9Wl",
        "colab": {
          "base_uri": "https://localhost:8080/",
          "height": 375
        },
        "outputId": "79825899-b9ae-401e-d6d0-f94003fa2931"
      },
      "source": [
        "import torch\n",
        "from torch.utils.data import DataLoader\n",
        "import torch_scatter\n",
        "import numpy as np\n",
        "import cv2\n",
        "import os.path as ops\n",
        "import time\n",
        "\n",
        "import import_ipynb\n",
        "from dataset.dataset_utils import TUSIMPLE\n",
        "from models.model1_TuSimple import Lanenet"
      ],
      "execution_count": null,
      "outputs": [
        {
          "output_type": "error",
          "ename": "OSError",
          "evalue": "ignored",
          "traceback": [
            "\u001b[0;31m---------------------------------------------------------------------------\u001b[0m",
            "\u001b[0;31mOSError\u001b[0m                                   Traceback (most recent call last)",
            "\u001b[0;32m<ipython-input-7-b305968d9fc1>\u001b[0m in \u001b[0;36m<module>\u001b[0;34m()\u001b[0m\n\u001b[1;32m      1\u001b[0m \u001b[0;32mimport\u001b[0m \u001b[0mtorch\u001b[0m\u001b[0;34m\u001b[0m\u001b[0;34m\u001b[0m\u001b[0m\n\u001b[1;32m      2\u001b[0m \u001b[0;32mfrom\u001b[0m \u001b[0mtorch\u001b[0m\u001b[0;34m.\u001b[0m\u001b[0mutils\u001b[0m\u001b[0;34m.\u001b[0m\u001b[0mdata\u001b[0m \u001b[0;32mimport\u001b[0m \u001b[0mDataLoader\u001b[0m\u001b[0;34m\u001b[0m\u001b[0;34m\u001b[0m\u001b[0m\n\u001b[0;32m----> 3\u001b[0;31m \u001b[0;32mimport\u001b[0m \u001b[0mtorch_scatter\u001b[0m\u001b[0;34m\u001b[0m\u001b[0;34m\u001b[0m\u001b[0m\n\u001b[0m\u001b[1;32m      4\u001b[0m \u001b[0;32mimport\u001b[0m \u001b[0mnumpy\u001b[0m \u001b[0;32mas\u001b[0m \u001b[0mnp\u001b[0m\u001b[0;34m\u001b[0m\u001b[0;34m\u001b[0m\u001b[0m\n\u001b[1;32m      5\u001b[0m \u001b[0;32mimport\u001b[0m \u001b[0mcv2\u001b[0m\u001b[0;34m\u001b[0m\u001b[0;34m\u001b[0m\u001b[0m\n",
            "\u001b[0;32m/usr/local/lib/python3.7/dist-packages/torch_scatter/__init__.py\u001b[0m in \u001b[0;36m<module>\u001b[0;34m()\u001b[0m\n\u001b[1;32m     12\u001b[0m     \u001b[0;32mfor\u001b[0m \u001b[0mlibrary\u001b[0m \u001b[0;32min\u001b[0m \u001b[0;34m[\u001b[0m\u001b[0;34m'_version'\u001b[0m\u001b[0;34m,\u001b[0m \u001b[0;34m'_scatter'\u001b[0m\u001b[0;34m,\u001b[0m \u001b[0;34m'_segment_csr'\u001b[0m\u001b[0;34m,\u001b[0m \u001b[0;34m'_segment_coo'\u001b[0m\u001b[0;34m]\u001b[0m\u001b[0;34m:\u001b[0m\u001b[0;34m\u001b[0m\u001b[0;34m\u001b[0m\u001b[0m\n\u001b[1;32m     13\u001b[0m         torch.ops.load_library(importlib.machinery.PathFinder().find_spec(\n\u001b[0;32m---> 14\u001b[0;31m             f'{library}_{suffix}', [osp.dirname(__file__)]).origin)\n\u001b[0m\u001b[1;32m     15\u001b[0m \u001b[0;32mexcept\u001b[0m \u001b[0mAttributeError\u001b[0m \u001b[0;32mas\u001b[0m \u001b[0me\u001b[0m\u001b[0;34m:\u001b[0m\u001b[0;34m\u001b[0m\u001b[0;34m\u001b[0m\u001b[0m\n\u001b[1;32m     16\u001b[0m     \u001b[0;32mif\u001b[0m \u001b[0mos\u001b[0m\u001b[0;34m.\u001b[0m\u001b[0mgetenv\u001b[0m\u001b[0;34m(\u001b[0m\u001b[0;34m'BUILD_DOCS'\u001b[0m\u001b[0;34m,\u001b[0m \u001b[0;34m'0'\u001b[0m\u001b[0;34m)\u001b[0m \u001b[0;34m!=\u001b[0m \u001b[0;34m'1'\u001b[0m\u001b[0;34m:\u001b[0m\u001b[0;34m\u001b[0m\u001b[0;34m\u001b[0m\u001b[0m\n",
            "\u001b[0;32m/usr/local/lib/python3.7/dist-packages/torch/_ops.py\u001b[0m in \u001b[0;36mload_library\u001b[0;34m(self, path)\u001b[0m\n\u001b[1;32m    102\u001b[0m             \u001b[0;31m# static (global) initialization code in order to register custom\u001b[0m\u001b[0;34m\u001b[0m\u001b[0;34m\u001b[0m\u001b[0;34m\u001b[0m\u001b[0m\n\u001b[1;32m    103\u001b[0m             \u001b[0;31m# operators with the JIT.\u001b[0m\u001b[0;34m\u001b[0m\u001b[0;34m\u001b[0m\u001b[0;34m\u001b[0m\u001b[0m\n\u001b[0;32m--> 104\u001b[0;31m             \u001b[0mctypes\u001b[0m\u001b[0;34m.\u001b[0m\u001b[0mCDLL\u001b[0m\u001b[0;34m(\u001b[0m\u001b[0mpath\u001b[0m\u001b[0;34m)\u001b[0m\u001b[0;34m\u001b[0m\u001b[0;34m\u001b[0m\u001b[0m\n\u001b[0m\u001b[1;32m    105\u001b[0m         \u001b[0mself\u001b[0m\u001b[0;34m.\u001b[0m\u001b[0mloaded_libraries\u001b[0m\u001b[0;34m.\u001b[0m\u001b[0madd\u001b[0m\u001b[0;34m(\u001b[0m\u001b[0mpath\u001b[0m\u001b[0;34m)\u001b[0m\u001b[0;34m\u001b[0m\u001b[0;34m\u001b[0m\u001b[0m\n\u001b[1;32m    106\u001b[0m \u001b[0;34m\u001b[0m\u001b[0m\n",
            "\u001b[0;32m/usr/lib/python3.7/ctypes/__init__.py\u001b[0m in \u001b[0;36m__init__\u001b[0;34m(self, name, mode, handle, use_errno, use_last_error)\u001b[0m\n\u001b[1;32m    362\u001b[0m \u001b[0;34m\u001b[0m\u001b[0m\n\u001b[1;32m    363\u001b[0m         \u001b[0;32mif\u001b[0m \u001b[0mhandle\u001b[0m \u001b[0;32mis\u001b[0m \u001b[0;32mNone\u001b[0m\u001b[0;34m:\u001b[0m\u001b[0;34m\u001b[0m\u001b[0;34m\u001b[0m\u001b[0m\n\u001b[0;32m--> 364\u001b[0;31m             \u001b[0mself\u001b[0m\u001b[0;34m.\u001b[0m\u001b[0m_handle\u001b[0m \u001b[0;34m=\u001b[0m \u001b[0m_dlopen\u001b[0m\u001b[0;34m(\u001b[0m\u001b[0mself\u001b[0m\u001b[0;34m.\u001b[0m\u001b[0m_name\u001b[0m\u001b[0;34m,\u001b[0m \u001b[0mmode\u001b[0m\u001b[0;34m)\u001b[0m\u001b[0;34m\u001b[0m\u001b[0;34m\u001b[0m\u001b[0m\n\u001b[0m\u001b[1;32m    365\u001b[0m         \u001b[0;32melse\u001b[0m\u001b[0;34m:\u001b[0m\u001b[0;34m\u001b[0m\u001b[0;34m\u001b[0m\u001b[0m\n\u001b[1;32m    366\u001b[0m             \u001b[0mself\u001b[0m\u001b[0;34m.\u001b[0m\u001b[0m_handle\u001b[0m \u001b[0;34m=\u001b[0m \u001b[0mhandle\u001b[0m\u001b[0;34m\u001b[0m\u001b[0;34m\u001b[0m\u001b[0m\n",
            "\u001b[0;31mOSError\u001b[0m: /usr/local/lib/python3.7/dist-packages/torch_scatter/_scatter_cpu.so: undefined symbol: _ZNK2at6Tensor6deviceEv"
          ]
        }
      ]
    },
    {
      "cell_type": "code",
      "metadata": {
        "colab": {
          "base_uri": "https://localhost:8080/"
        },
        "id": "NVC2OZFVoj6p",
        "outputId": "38630b03-7fec-42da-9858-8a729f1361ad"
      },
      "source": [
        "print(torch.__version__)\n",
        "print(torch.version.cuda)"
      ],
      "execution_count": null,
      "outputs": [
        {
          "output_type": "stream",
          "text": [
            "1.9.0+cu102\n",
            "10.2\n"
          ],
          "name": "stdout"
        }
      ]
    },
    {
      "cell_type": "markdown",
      "metadata": {
        "id": "HLexWjJCq9Wn"
      },
      "source": [
        "# Loading Data"
      ]
    },
    {
      "cell_type": "code",
      "metadata": {
        "id": "Dpo9sRheBlHW"
      },
      "source": [
        "root = 'TUSMIPLE/txt_for_local'\n",
        "train_set = TUSIMPLE(root=root, flag='train')\n",
        "valid_set = TUSIMPLE(root=root, flag='valid')\n",
        "test_set = TUSIMPLE(root=root, flag='test')\n",
        "\n",
        "batch_size = 16\n",
        "data_loader_train = DataLoader(train_set, batch_size=batch_size, shuffle=True, num_workers=0)\n",
        "data_loader_valid = DataLoader(valid_set, batch_size=1, shuffle=True, num_workers=0)\n",
        "data_loader_test = DataLoader(test_set, batch_size=1, shuffle=False, num_workers=0)"
      ],
      "execution_count": null,
      "outputs": []
    },
    {
      "cell_type": "markdown",
      "metadata": {
        "id": "7maolDZtNEEO"
      },
      "source": [
        "# Define Loss Function"
      ]
    },
    {
      "cell_type": "code",
      "metadata": {
        "id": "iUjbq_zw3pge"
      },
      "source": [
        "import torch\n",
        "import torch.nn as nn\n",
        "# from torch_scatter import scatter\n",
        "\n",
        "class cluster_loss(nn.Module):\n",
        "  def __init__(self):\n",
        "    super(cluster_loss, self).__init__()\n",
        "\n",
        "  def forward(self, binary_preds, binary_labels,instance_embedding_preds, instance_labels, delta_v=0.5, delta_d=3):\n",
        "    binary_segmenatation_loss = self.binary_loss(binary_preds, binary_labels)\n",
        "    instance_segmenatation_loss = self.instance_segmenatation_loss(instance_embedding_preds, instance_labels, delta_v=0.5, delta_d=3)\n",
        "    return binary_segmenatation_loss.to(device),instance_segmenatation_loss.to(device)\n",
        "\n",
        "  def binary_loss(self, binary_preds, binary_labels):\n",
        "    # Since the two classes (lane/background) are highly unbalanced, we apply bounded inverse class weighting\n",
        "    output, counts = torch.unique(binary_labels, return_inverse=False, return_counts=True)\n",
        "    counts = counts.float()\n",
        "    inverse_weights = torch.div(1.0, torch.log(torch.add(torch.div(counts, torch.sum(counts)), torch.tensor(1.02, dtype=torch.float))))\n",
        "    binary_loss = torch.nn.CrossEntropyLoss(weight=inverse_weights)\n",
        "    binary_segmenatation_loss = binary_loss(binary_preds, binary_labels)\n",
        "    return binary_segmenatation_loss\n",
        "\n",
        "\n",
        "  def instance_segmenatation_loss(self,instance_embedding_preds, instance_labels, delta_v=0.5, delta_d=3):\n",
        "    batch_size = instance_embedding_preds.shape[0]\n",
        "    instance_segmenatation_loss = torch.tensor(0.).to(device)\n",
        "    for dimen in range(batch_size):\n",
        "        prediction = torch.unsqueeze(instance_embedding_preds[dimen], 0) # .cuda() (4,256,512)=>(1,4,256,512)\n",
        "        correct_label = torch.unsqueeze(instance_labels[dimen], 0)# .cuda() (256,512)=>(1,256,512)\n",
        "        instance_segmenatation_loss += self.dicriminative_loss(prediction, correct_label, delta_v, delta_d)\n",
        "    instance_segmenatation_loss = instance_segmenatation_loss / batch_size\n",
        "    return instance_segmenatation_loss\n",
        "\n",
        "\n",
        "  def dicriminative_loss(self,prediction, correct_label, delta_v, delta_d):\n",
        "    \n",
        "    prediction_reshape = prediction.view(prediction.shape[0], prediction.shape[1],prediction.shape[2] * prediction.shape[3])  # [N, 4, 131072]\n",
        "    correct_label_reshape = correct_label.view(correct_label.shape[0], 1,correct_label.shape[1] * correct_label.shape[2])  # [N, 1, 131072]\n",
        "     \n",
        "    output, inverse_indices, counts = torch.unique(correct_label_reshape, return_inverse=True,return_counts=True)\n",
        "    counts = counts.float() #number of elements in each instance\n",
        "    num_instances = len(output) #number of instances \n",
        "    muc = scatter(prediction_reshape, inverse_indices, dim=2, reduce=\"mean\")  # [N, 4, 5] bode sevom barabare tedade instance ha ast\n",
        "\n",
        "    # Calculate l_var\n",
        "    dis = torch.index_select(muc, 2, inverse_indices.view(inverse_indices.shape[-1]),out=None)  # [N, 4, 131072]\n",
        "    dis = dis - prediction_reshape\n",
        "    dis = torch.norm(dis, dim=1, keepdim=False, out=None, dtype=None)  # [N, 131072]\n",
        "    dis = dis - delta_v\n",
        "    dis = torch.clamp(dis, min=0.)  # [N, 131072]\n",
        "    dis = torch.pow(dis, 2, out=None)\n",
        "\n",
        "    L_var = scatter(dis, inverse_indices.view(inverse_indices.shape[-1]), dim=1, reduce=\"mean\")  # [N, 3]\n",
        "    L_var = torch.sum(L_var) / num_instances\n",
        "\n",
        "    # Calculate l_dist\n",
        "    L_dist = torch.tensor(0, dtype=torch.float)\n",
        "    for A in range(num_instances):\n",
        "        for B in range(num_instances):\n",
        "            if A != B:\n",
        "                dis = muc[:, :, A] - muc[:, :, B]\n",
        "                dis = torch.norm(dis, dim=1, keepdim=False, out=None, dtype=None)\n",
        "                dis = delta_d - dis\n",
        "                dis = torch.clamp(dis, min=0.)\n",
        "                dis = torch.pow(dis, 2, out=None)\n",
        "                L_dist = L_dist + dis\n",
        "    L_dist = L_dist / (num_instances * (num_instances - 1))\n",
        "    L_dist = L_dist.view([])\n",
        "\n",
        "    discriminative_loss = L_var + L_dist\n",
        "    return discriminative_loss"
      ],
      "execution_count": null,
      "outputs": []
    },
    {
      "cell_type": "markdown",
      "metadata": {
        "id": "WlvbwcJzq9Wn"
      },
      "source": [
        "# Model - Optimizer - Hyperparameters"
      ]
    },
    {
      "cell_type": "code",
      "metadata": {
        "id": "4wBNYpoHq9Wn"
      },
      "source": [
        "device = torch.device('cuda') if torch.cuda.is_available() else torch.device('cpu')\n",
        "LaneNet_model = Lanenet(2, 4)\n",
        "LaneNet_model.to(device)\n",
        "\n",
        "learning_rate = 5e-4\n",
        "params = [p for p in LaneNet_model.parameters() if p.requires_grad]\n",
        "optimizer = torch.optim.Adam(params, lr=learning_rate, weight_decay=0.0002)\n",
        "lr_scheduler = torch.optim.lr_scheduler.StepLR(optimizer, step_size=10, gamma=0.1)\n",
        "\n",
        "loss_function = cluster_loss()\n",
        "num_epochs = 5"
      ],
      "execution_count": null,
      "outputs": []
    },
    {
      "cell_type": "markdown",
      "metadata": {
        "id": "x1LN45ZryY59"
      },
      "source": [
        "# Training"
      ]
    },
    {
      "cell_type": "code",
      "metadata": {
        "id": "sMeNB5yyq9Wn"
      },
      "source": [
        "from torch.autograd import Variable"
      ],
      "execution_count": null,
      "outputs": []
    },
    {
      "cell_type": "code",
      "metadata": {
        "id": "fTlkpF6Kq9Wn"
      },
      "source": [
        "loss_all = []\n",
        "for epoch in range(num_epochs):\n",
        "    LaneNet_model.train()\n",
        "    ts = time.time()\n",
        "    for iter, batch in enumerate(data_loader_train):\n",
        "        input_image = Variable(batch[0]).to(device)\n",
        "        binary_labels = Variable(batch[1]).to(device)\n",
        "        instance_labels = Variable(batch[2]).to(device)\n",
        "\n",
        "        binary_preds, instance_embedding_preds = LaneNet_model(input_image)\n",
        "        #your loss function should take variables as input in order to be able to backpropagate!\n",
        "        binary_segmenatation_loss, instance_segmenatation_loss = loss_function(binary_preds=binary_preds, binary_labels=binary_labels,\n",
        "                                       instance_embedding_preds=instance_embedding_preds, instance_labels=instance_labels, delta_v=0.5, delta_d=3)\n",
        "        loss = (1*binary_segmenatation_loss + 1*instance_segmenatation_loss).to(device)\n",
        "        optimizer.zero_grad()\n",
        "        loss_all.append(loss.item())\n",
        "        loss.backward()\n",
        "        optimizer.step()\n",
        "        if iter % 20 == 0:\n",
        "            print(\"epoch[{}] iter[{}] binary segmentation loss:[{}] instance-segmentation-loss:[{}] \".format(epoch, iter, binary_segmenatation_loss.item(), instance_segmenatation_loss.item()))\n",
        "    lr_scheduler.step()\n",
        "    print(\"Finish epoch[{}], time elapsed[{}]\".format(epoch, time.time() - ts))\n",
        "    torch.save(LaneNet_model.state_dict(), f\"mymodel{epoch}_batch_{8}.pth\")\n",
        "    \n",
        "\n"
      ],
      "execution_count": null,
      "outputs": []
    },
    {
      "cell_type": "markdown",
      "metadata": {
        "id": "tnEbDrF8JmBT"
      },
      "source": [
        "# Visualizations"
      ]
    },
    {
      "cell_type": "code",
      "metadata": {
        "id": "KOdkQYkqq9Wp",
        "colab": {
          "base_uri": "https://localhost:8080/",
          "height": 312
        },
        "outputId": "710298df-a43a-44a0-bbe3-180c734cc314"
      },
      "source": [
        "import matplotlib.pylab as plt\n",
        "%matplotlib inline\n",
        "plt.title('loss over iterations')\n",
        "plt.xlabel('iterations')\n",
        "plt.ylabel('loss')\n",
        "plt.plot(loss_all)"
      ],
      "execution_count": null,
      "outputs": [
        {
          "output_type": "execute_result",
          "data": {
            "text/plain": [
              "[<matplotlib.lines.Line2D at 0x7f3e6c17cf50>]"
            ]
          },
          "metadata": {
            "tags": []
          },
          "execution_count": 45
        },
        {
          "output_type": "display_data",
          "data": {
            "image/png": "[encoded data removed]",
            "text/plain": [
              "<Figure size 432x288 with 1 Axes>"
            ]
          },
          "metadata": {
            "tags": [],
            "needs_background": "light"
          }
        }
      ]
    },
    {
      "cell_type": "code",
      "metadata": {
        "id": "EmuR-rrHM1RY"
      },
      "source": [
        "import torch\n",
        "x = torch.tensor([1,1,1,2,2,3,4,1,2,3])\n",
        "output, inverse_indices, counts = torch.unique(x, return_inverse=True,return_counts=True)\n"
      ],
      "execution_count": null,
      "outputs": []
    },
    {
      "cell_type": "code",
      "metadata": {
        "colab": {
          "base_uri": "https://localhost:8080/"
        },
        "id": "ryrPh9I1RPwE",
        "outputId": "0705d4e2-3c17-4fcb-a9e0-9d2fb624876f"
      },
      "source": [
        "print(output)"
      ],
      "execution_count": null,
      "outputs": [
        {
          "output_type": "stream",
          "text": [
            "tensor([1, 2, 3, 4])\n"
          ],
          "name": "stdout"
        }
      ]
    },
    {
      "cell_type": "code",
      "metadata": {
        "colab": {
          "base_uri": "https://localhost:8080/"
        },
        "id": "ay76_21ORRav",
        "outputId": "89db39b6-3e66-413d-f259-6b6e3f44944f"
      },
      "source": [
        "print(counts)"
      ],
      "execution_count": null,
      "outputs": [
        {
          "output_type": "stream",
          "text": [
            "tensor([4, 3, 2, 1])\n"
          ],
          "name": "stdout"
        }
      ]
    },
    {
      "cell_type": "code",
      "metadata": {
        "colab": {
          "base_uri": "https://localhost:8080/"
        },
        "id": "1FzW90CmReTS",
        "outputId": "8f229a15-460f-44aa-c6f5-a4f32108fe89"
      },
      "source": [
        "print(inverse_indices)"
      ],
      "execution_count": null,
      "outputs": [
        {
          "output_type": "stream",
          "text": [
            "tensor([0, 0, 0, 1, 1, 2, 3, 0, 1, 2])\n"
          ],
          "name": "stdout"
        }
      ]
    },
    {
      "cell_type": "code",
      "metadata": {
        "colab": {
          "base_uri": "https://localhost:8080/",
          "height": 181
        },
        "id": "PmjB-vzxRilH",
        "outputId": "21be5799-a1a4-4f33-83a2-d0bb6f5226ca"
      },
      "source": [
        "muc = scatter(prediction_reshape, inverse_indices, dim=2, reduce=\"mean\")  # [N, 4, 5] bode sevom barabare tedade instance ha ast\n",
        "print(muc)"
      ],
      "execution_count": null,
      "outputs": [
        {
          "output_type": "error",
          "ename": "NameError",
          "evalue": "ignored",
          "traceback": [
            "\u001b[0;31m---------------------------------------------------------------------------\u001b[0m",
            "\u001b[0;31mNameError\u001b[0m                                 Traceback (most recent call last)",
            "\u001b[0;32m<ipython-input-12-0fd9694f83c7>\u001b[0m in \u001b[0;36m<module>\u001b[0;34m()\u001b[0m\n\u001b[0;32m----> 1\u001b[0;31m \u001b[0mmuc\u001b[0m \u001b[0;34m=\u001b[0m \u001b[0mscatter\u001b[0m\u001b[0;34m(\u001b[0m\u001b[0mprediction_reshape\u001b[0m\u001b[0;34m,\u001b[0m \u001b[0minverse_indices\u001b[0m\u001b[0;34m,\u001b[0m \u001b[0mdim\u001b[0m\u001b[0;34m=\u001b[0m\u001b[0;36m2\u001b[0m\u001b[0;34m,\u001b[0m \u001b[0mreduce\u001b[0m\u001b[0;34m=\u001b[0m\u001b[0;34m\"mean\"\u001b[0m\u001b[0;34m)\u001b[0m  \u001b[0;31m# [N, 4, 5] bode sevom barabare tedade instance ha ast\u001b[0m\u001b[0;34m\u001b[0m\u001b[0;34m\u001b[0m\u001b[0m\n\u001b[0m\u001b[1;32m      2\u001b[0m \u001b[0mprint\u001b[0m\u001b[0;34m(\u001b[0m\u001b[0mmuc\u001b[0m\u001b[0;34m)\u001b[0m\u001b[0;34m\u001b[0m\u001b[0;34m\u001b[0m\u001b[0m\n",
            "\u001b[0;31mNameError\u001b[0m: name 'scatter' is not defined"
          ]
        }
      ]
    },
    {
      "cell_type": "code",
      "metadata": {
        "colab": {
          "base_uri": "https://localhost:8080/",
          "height": 307
        },
        "id": "WLHa_T4iRz1w",
        "outputId": "7d6ec34b-4dc8-4e77-ac7f-afe696d58146"
      },
      "source": [
        "import torch_scatter"
      ],
      "execution_count": null,
      "outputs": [
        {
          "output_type": "error",
          "ename": "OSError",
          "evalue": "ignored",
          "traceback": [
            "\u001b[0;31m---------------------------------------------------------------------------\u001b[0m",
            "\u001b[0;31mOSError\u001b[0m                                   Traceback (most recent call last)",
            "\u001b[0;32m<ipython-input-13-d3a1bea51b5c>\u001b[0m in \u001b[0;36m<module>\u001b[0;34m()\u001b[0m\n\u001b[0;32m----> 1\u001b[0;31m \u001b[0;32mimport\u001b[0m \u001b[0mtorch_scatter\u001b[0m\u001b[0;34m\u001b[0m\u001b[0;34m\u001b[0m\u001b[0m\n\u001b[0m",
            "\u001b[0;32m/usr/local/lib/python3.7/dist-packages/torch_scatter/__init__.py\u001b[0m in \u001b[0;36m<module>\u001b[0;34m()\u001b[0m\n\u001b[1;32m     12\u001b[0m     \u001b[0;32mfor\u001b[0m \u001b[0mlibrary\u001b[0m \u001b[0;32min\u001b[0m \u001b[0;34m[\u001b[0m\u001b[0;34m'_version'\u001b[0m\u001b[0;34m,\u001b[0m \u001b[0;34m'_scatter'\u001b[0m\u001b[0;34m,\u001b[0m \u001b[0;34m'_segment_csr'\u001b[0m\u001b[0;34m,\u001b[0m \u001b[0;34m'_segment_coo'\u001b[0m\u001b[0;34m]\u001b[0m\u001b[0;34m:\u001b[0m\u001b[0;34m\u001b[0m\u001b[0;34m\u001b[0m\u001b[0m\n\u001b[1;32m     13\u001b[0m         torch.ops.load_library(importlib.machinery.PathFinder().find_spec(\n\u001b[0;32m---> 14\u001b[0;31m             f'{library}_{suffix}', [osp.dirname(__file__)]).origin)\n\u001b[0m\u001b[1;32m     15\u001b[0m \u001b[0;32mexcept\u001b[0m \u001b[0mAttributeError\u001b[0m \u001b[0;32mas\u001b[0m \u001b[0me\u001b[0m\u001b[0;34m:\u001b[0m\u001b[0;34m\u001b[0m\u001b[0;34m\u001b[0m\u001b[0m\n\u001b[1;32m     16\u001b[0m     \u001b[0;32mif\u001b[0m \u001b[0mos\u001b[0m\u001b[0;34m.\u001b[0m\u001b[0mgetenv\u001b[0m\u001b[0;34m(\u001b[0m\u001b[0;34m'BUILD_DOCS'\u001b[0m\u001b[0;34m,\u001b[0m \u001b[0;34m'0'\u001b[0m\u001b[0;34m)\u001b[0m \u001b[0;34m!=\u001b[0m \u001b[0;34m'1'\u001b[0m\u001b[0;34m:\u001b[0m\u001b[0;34m\u001b[0m\u001b[0;34m\u001b[0m\u001b[0m\n",
            "\u001b[0;32m/usr/local/lib/python3.7/dist-packages/torch/_ops.py\u001b[0m in \u001b[0;36mload_library\u001b[0;34m(self, path)\u001b[0m\n\u001b[1;32m    102\u001b[0m             \u001b[0;31m# static (global) initialization code in order to register custom\u001b[0m\u001b[0;34m\u001b[0m\u001b[0;34m\u001b[0m\u001b[0;34m\u001b[0m\u001b[0m\n\u001b[1;32m    103\u001b[0m             \u001b[0;31m# operators with the JIT.\u001b[0m\u001b[0;34m\u001b[0m\u001b[0;34m\u001b[0m\u001b[0;34m\u001b[0m\u001b[0m\n\u001b[0;32m--> 104\u001b[0;31m             \u001b[0mctypes\u001b[0m\u001b[0;34m.\u001b[0m\u001b[0mCDLL\u001b[0m\u001b[0;34m(\u001b[0m\u001b[0mpath\u001b[0m\u001b[0;34m)\u001b[0m\u001b[0;34m\u001b[0m\u001b[0;34m\u001b[0m\u001b[0m\n\u001b[0m\u001b[1;32m    105\u001b[0m         \u001b[0mself\u001b[0m\u001b[0;34m.\u001b[0m\u001b[0mloaded_libraries\u001b[0m\u001b[0;34m.\u001b[0m\u001b[0madd\u001b[0m\u001b[0;34m(\u001b[0m\u001b[0mpath\u001b[0m\u001b[0;34m)\u001b[0m\u001b[0;34m\u001b[0m\u001b[0;34m\u001b[0m\u001b[0m\n\u001b[1;32m    106\u001b[0m \u001b[0;34m\u001b[0m\u001b[0m\n",
            "\u001b[0;32m/usr/lib/python3.7/ctypes/__init__.py\u001b[0m in \u001b[0;36m__init__\u001b[0;34m(self, name, mode, handle, use_errno, use_last_error)\u001b[0m\n\u001b[1;32m    362\u001b[0m \u001b[0;34m\u001b[0m\u001b[0m\n\u001b[1;32m    363\u001b[0m         \u001b[0;32mif\u001b[0m \u001b[0mhandle\u001b[0m \u001b[0;32mis\u001b[0m \u001b[0;32mNone\u001b[0m\u001b[0;34m:\u001b[0m\u001b[0;34m\u001b[0m\u001b[0;34m\u001b[0m\u001b[0m\n\u001b[0;32m--> 364\u001b[0;31m             \u001b[0mself\u001b[0m\u001b[0;34m.\u001b[0m\u001b[0m_handle\u001b[0m \u001b[0;34m=\u001b[0m \u001b[0m_dlopen\u001b[0m\u001b[0;34m(\u001b[0m\u001b[0mself\u001b[0m\u001b[0;34m.\u001b[0m\u001b[0m_name\u001b[0m\u001b[0;34m,\u001b[0m \u001b[0mmode\u001b[0m\u001b[0;34m)\u001b[0m\u001b[0;34m\u001b[0m\u001b[0;34m\u001b[0m\u001b[0m\n\u001b[0m\u001b[1;32m    365\u001b[0m         \u001b[0;32melse\u001b[0m\u001b[0;34m:\u001b[0m\u001b[0;34m\u001b[0m\u001b[0;34m\u001b[0m\u001b[0m\n\u001b[1;32m    366\u001b[0m             \u001b[0mself\u001b[0m\u001b[0;34m.\u001b[0m\u001b[0m_handle\u001b[0m \u001b[0;34m=\u001b[0m \u001b[0mhandle\u001b[0m\u001b[0;34m\u001b[0m\u001b[0;34m\u001b[0m\u001b[0m\n",
            "\u001b[0;31mOSError\u001b[0m: /usr/local/lib/python3.7/dist-packages/torch_scatter/_scatter_cpu.so: undefined symbol: _ZNK2at6Tensor6deviceEv"
          ]
        }
      ]
    },
    {
      "cell_type": "code",
      "metadata": {
        "id": "_Vkk3CXTR5qb"
      },
      "source": [
        "flattened_prediction = prediction.view(prediction.shape[0], prediction.shape[1],prediction.shape[2] * prediction.shape[3])  # [batch_size, 4, H*W]\n",
        "flattened_label = label.view(correct_label.shape[0], 1,correct_label.shape[1] * correct_label.shape[2])  # [batch_size, 1, H*W]"
      ],
      "execution_count": null,
      "outputs": []
    }
  ]
}