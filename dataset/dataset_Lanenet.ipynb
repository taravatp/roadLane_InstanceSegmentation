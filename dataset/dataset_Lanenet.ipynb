{
  "nbformat": 4,
  "nbformat_minor": 0,
  "metadata": {
    "colab": {
      "name": "dataset_Lanenet.ipynb",
      "provenance": [],
      "collapsed_sections": [],
      "mount_file_id": "1U34y5C_m5B37Nh3whD_KYfIaISUtVo1s",
      "authorship_tag": "ABX9TyPdYNzw5s3aEy1IA1v2fBBD",
      "include_colab_link": true
    },
    "kernelspec": {
      "display_name": "Python 3",
      "name": "python3"
    }
  },
  "cells": [
    {
      "cell_type": "markdown",
      "metadata": {
        "id": "view-in-github",
        "colab_type": "text"
      },
      "source": [
        "<a href=\"https://colab.research.google.com/github/taravatp/roadLane_InstanceSegmentation/blob/main/dataset/dataset_Lanenet.ipynb\" target=\"_parent\"><img src=\"https://colab.research.google.com/assets/colab-badge.svg\" alt=\"Open In Colab\"/></a>"
      ]
    },
    {
      "cell_type": "code",
      "metadata": {
        "id": "pTC1CBosDVxH"
      },
      "source": [
        "import torch\n",
        "import torchvision\n",
        "from torch.utils.data import Dataset,DataLoader\n",
        "import os.path as ops\n",
        "import numpy as np\n",
        "import cv2"
      ],
      "execution_count": null,
      "outputs": []
    },
    {
      "cell_type": "code",
      "metadata": {
        "id": "3aFWzu8WDQay"
      },
      "source": [
        "class TUSIMPLE(Dataset):\n",
        "    def __init__(self, root, flag='train'):\n",
        "\n",
        "        self.root = root\n",
        "        self.flag = flag\n",
        "\n",
        "        self.img_pathes = []\n",
        "        self.resize = (512,256)\n",
        "\n",
        "        self.train_file = ops.join(root, 'train.txt')\n",
        "        self.val_file = ops.join(root, 'val.txt')\n",
        "        self.test_file = ops.join(root, 'test.txt')\n",
        "\n",
        "        if self.flag == 'train':\n",
        "            file_open = self.train_file\n",
        "        elif self.flag == 'valid':\n",
        "            file_open = self.val_file\n",
        "        else:\n",
        "            file_open = self.test_file\n",
        "\n",
        "        with open(file_open, 'r') as file:\n",
        "            data = file.readlines()\n",
        "            for l in data:\n",
        "                line = l.split()\n",
        "                self.img_pathes.append(line)\n",
        "\n",
        "    def __len__(self):\n",
        "        return len(self.img_pathes)\n",
        "\n",
        "    def __getitem__(self, idx):\n",
        "\n",
        "        gt_image = cv2.imread(self.img_pathes[idx][0], cv2.IMREAD_UNCHANGED)\n",
        "        gt_binary_image = cv2.imread(self.img_pathes[idx][1], cv2.IMREAD_UNCHANGED)\n",
        "        gt_instance = cv2.imread(self.img_pathes[idx][2], cv2.IMREAD_UNCHANGED)\n",
        "\n",
        "        #resizing\n",
        "        gt_image = cv2.resize(gt_image, dsize=self.resize, interpolation=cv2.INTER_LINEAR)\n",
        "        gt_binary_image = cv2.resize(gt_binary_image, dsize=self.resize, interpolation=cv2.INTER_NEAREST)\n",
        "        gt_instance = cv2.resize(gt_instance, dsize=self.resize, interpolation=cv2.INTER_NEAREST)\n",
        "\n",
        "        #scaling\n",
        "        gt_image = gt_image / 127.5 - 1.0\n",
        "        gt_binary_image = gt_binary_image / 255.0\n",
        "\n",
        "        gt_image = np.transpose(gt_image, (2, 0, 1))#channels should come first rgb bgr\n",
        "\n",
        "        #convert numpy arrays to pytorch tensors\n",
        "        gt_image = torch.tensor(gt_image, dtype=torch.float)\n",
        "        gt_binary_image = torch.tensor(gt_binary_image, dtype=torch.long)\n",
        "        gt_instance = torch.tensor(gt_instance, dtype=torch.long)\n",
        "\n",
        "        return gt_image, gt_binary_image, gt_instance\n"
      ],
      "execution_count": null,
      "outputs": []
    },
    {
      "cell_type": "code",
      "metadata": {
        "id": "-CR0pcqvKVxP"
      },
      "source": [
        "root = '/content/drive/MyDrive/Lane_Detection/TUSMIPLE/txt_for_local'\n",
        "test = TUSIMPLE(root,'flag=train')"
      ],
      "execution_count": null,
      "outputs": []
    },
    {
      "cell_type": "code",
      "metadata": {
        "id": "8u3V1TmrBRA4",
        "colab": {
          "base_uri": "https://localhost:8080/"
        },
        "outputId": "d405fd9e-7ac4-4d3a-8ee8-d9c64121db32"
      },
      "source": [
        "print(len(test))"
      ],
      "execution_count": null,
      "outputs": [
        {
          "output_type": "stream",
          "name": "stdout",
          "text": [
            "363\n"
          ]
        }
      ]
    },
    {
      "cell_type": "code",
      "metadata": {
        "id": "QZNdEaq4UkMF"
      },
      "source": [
        ""
      ],
      "execution_count": null,
      "outputs": []
    }
  ]
}